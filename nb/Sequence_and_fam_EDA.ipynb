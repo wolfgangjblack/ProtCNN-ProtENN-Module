{
  "nbformat": 4,
  "nbformat_minor": 0,
  "metadata": {
    "colab": {
      "name": "Sequence_and_fam_EDA",
      "provenance": [],
      "machine_shape": "hm",
      "collapsed_sections": []
    },
    "kernelspec": {
      "name": "python3",
      "display_name": "Python 3"
    },
    "language_info": {
      "name": "python"
    },
    "accelerator": "TPU",
    "gpuClass": "standard"
  },
  "cells": [
    {
      "cell_type": "markdown",
      "source": [
        "## About Dataset\n",
        "### Problem description\n",
        "This directory contains data to train a model to predict the function of protein domains, based on the PFam dataset.\n",
        "\n",
        "Domains are functional sub-parts of proteins; much like images in ImageNet are pre segmented to contain exactly one object class, this data is presegmented to contain exactly and only one domain.\n",
        "\n",
        "The purpose of the dataset is to repose the PFam seed dataset as a multiclass classification machine learning task.\n",
        "\n",
        "The task is: given the amino acid sequence of the protein domain, predict which class it belongs to. There are about 1 million training examples, and 18,000 output classes.\n",
        "\n",
        "### Data structure\n",
        "This data is more completely described by the publication \"Can Deep Learning Classify the Protein Universe\", Bileschi et al.\n",
        "\n",
        "### Data split and layout\n",
        "The approach used to partition the data into training/dev/testing folds is a random split.\n",
        "\n",
        "Training data should be used to train your models. Dev (development) data should be used in a close validation loop (maybe for hyperparameter tuning or model validation). Test data should be reserved for much less frequent evaluations - this helps avoid overfitting on your test data, as it should only be used infrequently.\n",
        "\n",
        "### File content\n",
        "Each fold (train, dev, test) has a number of files in it. Each of those files contains csv on each line, which has the following fields:\n",
        "\n",
        "- sequence: HWLQMRDSMNTYNNMVNRCFATCIRSFQEKKVNAEEMDCTKRCVTKFVGYSQRVALRFAE\n",
        "- family_accession: PF02953.15\n",
        "- sequence_name: C5K6N5_PERM5/28-87\n",
        "- aligned_sequence: ....HWLQMRDSMNTYNNMVNRCFATCI...........RS.F....QEKKVNAEE.....MDCT....KRCVTKFVGYSQRVALRFAE\n",
        "- family_id: zf-Tim10_DDP\n",
        "\n",
        "#### Description of fields:\n",
        "- sequence: These are usually the input features to your model. Amino acid sequence for this domain.\n",
        "There are 20 very common amino acids (frequency > 1,000,000), and 4 amino acids that are quite uncommon: X, U, B, O, Z.\n",
        "- family_accession: These are usually the labels for your model. Accession number in form PFxxxxx.y (Pfam), where xxxxx is the family accession, and y is the version number. Some values of y are greater than ten, and so 'y' has two digits.\n",
        "- family_id: One word name for family.\n",
        "- sequencename: Sequence name, in the form \" 𝑢𝑛𝑖𝑝𝑟𝑜𝑡𝑎𝑐𝑐𝑒𝑠𝑠𝑖𝑜𝑛𝑖𝑑/ startindex-$end_index\". aligned_sequence: Contains a single sequence from the multiple sequence alignment (with the rest of the members of the family in seed, with gaps retained. <p> \n",
        "Generally, the family_accession field is the label, and the sequence (or aligned sequence) is the training feature.\n",
        "\n",
        "This sequence corresponds to a domain, not a full protein.\n",
        "\n",
        "<b> THIS DESCRIPTION WAS TAKEN FROM KAGGLE - ALSO NOTE: THIS DATA HAS A LISCENSE AND MAY NOT BE USED OUTSIDE OF PUBLIC FREE PROJECTS WITHOUT PERMISSION <b>"
      ],
      "metadata": {
        "id": "z7F98gZ9KbvX"
      }
    },
    {
      "cell_type": "code",
      "source": [
        "!pip install python-utils"
      ],
      "metadata": {
        "colab": {
          "base_uri": "https://localhost:8080/"
        },
        "id": "a7YKgwTBIMUL",
        "outputId": "35f2ced8-bf5f-447f-e53f-43cab6290c25"
      },
      "execution_count": null,
      "outputs": [
        {
          "output_type": "stream",
          "name": "stdout",
          "text": [
            "Looking in indexes: https://pypi.org/simple, https://us-python.pkg.dev/colab-wheels/public/simple/\n",
            "Requirement already satisfied: python-utils in /usr/local/lib/python3.7/dist-packages (3.3.3)\n"
          ]
        }
      ]
    },
    {
      "cell_type": "code",
      "execution_count": null,
      "metadata": {
        "colab": {
          "base_uri": "https://localhost:8080/"
        },
        "id": "9pP0DEwOKXWD",
        "outputId": "01415627-d046-48a8-f880-f4235890557f"
      },
      "outputs": [
        {
          "output_type": "stream",
          "name": "stdout",
          "text": [
            "Mounted at /content/drive/\n"
          ]
        }
      ],
      "source": [
        "import os\n",
        "import sys\n",
        "import pandas as pd\n",
        "import numpy as np\n",
        "from google.colab import drive\n",
        "drive.mount('/content/drive/')\n",
        "\n",
        "import matplotlib.pyplot as plt\n",
        "import seaborn as sns\n",
        "from google.colab import files\n",
        "\n",
        "!cp './drive/MyDrive/Colab Notebooks/ProtCNN/utils/datautils.py' ./\n",
        "from datautils import reader, build_labels, get_amino_acid_frequencies, build_vocab"
      ]
    },
    {
      "cell_type": "code",
      "source": [
        "base_dir = './drive/MyDrive/PFAM_database'\n",
        "data_dir = base_dir+'/data/random_split/'"
      ],
      "metadata": {
        "id": "9CipynR3LXKX"
      },
      "execution_count": null,
      "outputs": []
    },
    {
      "cell_type": "markdown",
      "source": [
        "### Step 1. Define Data Loading and Preprocessing\n",
        "\n",
        "Here we'll define the reader function which looks at the [partition], or the 'train'/'test' subdirectories, found within the [data_dir] directory and reads all files as csvs found in the subdirectories. These csv contain the data fields as described above (taken from [kaggle](https://www.kaggle.com/datasets/googleai/pfam-seed-random-split)) but the <b> reader </b> function only extractions the columns \"sequence\" and \"family accession\" as the data and targets respectively."
      ],
      "metadata": {
        "id": "0AMoYoAZMwa2"
      }
    },
    {
      "cell_type": "code",
      "source": [
        "help(reader)"
      ],
      "metadata": {
        "id": "2yFTkbuKLkci",
        "colab": {
          "base_uri": "https://localhost:8080/"
        },
        "outputId": "769a8030-eedf-4e49-9c67-e69d5e1ea3d6"
      },
      "execution_count": null,
      "outputs": [
        {
          "output_type": "stream",
          "name": "stdout",
          "text": [
            "Help on function reader in module datautils:\n",
            "\n",
            "reader(partition: str, data_path: str) -> pandas.core.series.Series\n",
            "    This function reads in a list of csv files found in data_path/partition and returns two pd.Series\n",
            "    Args:\n",
            "      partition: str\n",
            "        - this is designed to accept strs 'train', 'test', or 'dev'\n",
            "      data_path: str\n",
            "        - this is designed to be the directory to the data downloaded from kaggle and expects to see the subdirectory options detailed in partition\n",
            "    Output:\n",
            "      all_data['sequence']: pd.Series (strings)\n",
            "        - this pd.Series is a column of sequence data from the csvs. This is typically the main feature in protein classification Amino acid sequence \n",
            "            for this domain. There are 20 very common amino acids (frequency > 1,000,000), and 4 amino acids that are quite uncommon: X, U, B, O, Z.\n",
            "      all_data['family_accession]: pd.Series\n",
            "      - this pd.Series is a column of family data from the csvs. Accession number in form PFxxxxx.y (Pfam), where xxxxx is the family accession, and y is the version\n",
            "       number. Some values of y are greater than ten, and so 'y' has two digits.\n",
            "\n"
          ]
        }
      ]
    },
    {
      "cell_type": "code",
      "source": [
        "train_data, train_targets = reader('train',data_dir)\n",
        "test_data, test_targets = reader('test',data_dir)"
      ],
      "metadata": {
        "id": "cm-6HhR-Mw61"
      },
      "execution_count": null,
      "outputs": []
    },
    {
      "cell_type": "markdown",
      "source": [
        "Now that we've read in our data and labels, we want to transform the labels. We'll use build_labels to do this. This function grabs the unique values in the label data and calculates the frequencies they appear, also counting the number of unique labels. "
      ],
      "metadata": {
        "id": "Jp8f6KqiQhb0"
      }
    },
    {
      "cell_type": "code",
      "source": [
        "from datautils import build_labels"
      ],
      "metadata": {
        "id": "Nx8svj6EPEdY"
      },
      "execution_count": null,
      "outputs": []
    },
    {
      "cell_type": "code",
      "source": [
        "fam2label = build_labels(train_targets)"
      ],
      "metadata": {
        "colab": {
          "base_uri": "https://localhost:8080/"
        },
        "id": "aVqJ2BemRmYU",
        "outputId": "4102d37d-8a97-4e9a-ab44-9dc3360c3b32"
      },
      "execution_count": null,
      "outputs": [
        {
          "output_type": "stream",
          "name": "stdout",
          "text": [
            "There are 17930 labels.\n"
          ]
        }
      ]
    },
    {
      "cell_type": "code",
      "source": [
        "print(len(train_data), len(test_data))"
      ],
      "metadata": {
        "colab": {
          "base_uri": "https://localhost:8080/"
        },
        "id": "ezsv4uAiTYw_",
        "outputId": "129eb3a6-1223-42d7-84a2-dbed15c91f0f"
      },
      "execution_count": null,
      "outputs": [
        {
          "output_type": "stream",
          "name": "stdout",
          "text": [
            "1086741 126171\n"
          ]
        }
      ]
    },
    {
      "cell_type": "markdown",
      "source": [
        "we've got 17930 unique labels of various frequencies. This is in contrast to our 1,086,741 individual sequences for our training data. \n",
        "\n",
        "It should be noted that the paper this is based off of this [paper](https://www.biorxiv.org/content/10.1101/626507v3.full) trained just under 1.1M (similar number of examples) with 17929 output families - this is the same number as ours, we just already have the $unk$ family label. To determine how well we expect to be able to predict each class, we need to do a little EDA.\n",
        "\n",
        "#### Data Exploration and Analysis: Plots"
      ],
      "metadata": {
        "id": "tOdNKj-RTNBm"
      }
    },
    {
      "cell_type": "code",
      "source": [
        "#Plot distribution of family sizes\n",
        "f, ax = plt.subplots(figsize = (8,5))\n",
        "\n",
        "sorted_train_targets = train_targets \\\n",
        "    .groupby(train_targets) \\\n",
        "    .size() \\\n",
        "    .sort_values(ascending = False)\n",
        "\n",
        "sns.histplot(sorted_train_targets.values, kde = True, log_scale = True, ax = ax)\n",
        "#kde - use kernel density estimate to smooth distribution\n",
        "\n",
        "plt.title(\"Distribution of family sizes for the 'train' split\")\n",
        "plt.xlabel(\"Family size (log scale)\")\n",
        "plt.ylabel(\"# Families\")\n",
        "plt.show()"
      ],
      "metadata": {
        "colab": {
          "base_uri": "https://localhost:8080/",
          "height": 353
        },
        "id": "h-X0VplGRrso",
        "outputId": "74fd65e9-8638-4074-990d-9cf8d4a56285"
      },
      "execution_count": null,
      "outputs": [
        {
          "output_type": "display_data",
          "data": {
            "text/plain": [
              "<Figure size 576x360 with 1 Axes>"
            ],
            "image/png": "[encoded data removed]"
          },
          "metadata": {
            "needs_background": "light"
          }
        }
      ]
    },
    {
      "cell_type": "markdown",
      "source": [
        "Here we can see we have a heavily imbalanced distribution. This means that we have some families with only 10s of examples (that $10^0$ is our $unk$ label) and a few with several thousand. We'll need to address the families with little to no representations. This is also discussed in the [paper]('https://www.biorxiv.org/content/10.1101/626507v3.full') where they found that the 'small families' (or labels with some minimal frequency) are better off predicted after the base ProtCNN model is developed with a One-Shot NN.\n",
        "\n",
        "Aside from the label distributions, we're interested in the distributions of the sequence lengths"
      ],
      "metadata": {
        "id": "MxpdjCeWVoJK"
      }
    },
    {
      "cell_type": "code",
      "source": [
        " # Plot the distribution of sequences' lengths\n",
        "f, ax = plt.subplots(figsize=(8, 5))\n",
        "train_sequence_lengths = train_data.str.len()\n",
        "\n",
        "train_median = train_sequence_lengths.median()\n",
        "\n",
        "train_mean = train_sequence_lengths.mean()\n",
        "\n",
        "sns.histplot(train_sequence_lengths.values, kde=True, log_scale=True, bins=60, ax=ax)\n",
        "\n",
        "ax.axvline(train_mean, color='r', linestyle='-', label=f\"Mean = {train_mean:.1f}\")\n",
        "\n",
        "ax.axvline(train_median, color='g', linestyle='-', label=f\"Median = {train_median:.1f}\")\n",
        "\n",
        "plt.title(\"Distribution of sequence lengths\")\n",
        "plt.xlabel(\"Sequence' length (log scale)\")\n",
        "plt.ylabel(\"# Sequences\")\n",
        "plt.legend(loc=\"best\")\n",
        "plt.show()"
      ],
      "metadata": {
        "colab": {
          "base_uri": "https://localhost:8080/",
          "height": 353
        },
        "id": "ibPY5qilVn4G",
        "outputId": "3fff7f44-ebbd-486b-fc1c-d060f8bfd149"
      },
      "execution_count": null,
      "outputs": [
        {
          "output_type": "display_data",
          "data": {
            "text/plain": [
              "<Figure size 576x360 with 1 Axes>"
            ],
            "image/png": "[encoded data removed]"
          },
          "metadata": {
            "needs_background": "light"
          }
        }
      ]
    },
    {
      "cell_type": "markdown",
      "source": [
        "Here we can see we're 'almost' normally distributed but we've got a pretty large range of sequence lengths in our data."
      ],
      "metadata": {
        "id": "4uVIwb7lXOTR"
      }
    },
    {
      "cell_type": "code",
      "source": [
        "help(get_amino_acid_frequencies)"
      ],
      "metadata": {
        "id": "fGv3E-cwXOKx",
        "colab": {
          "base_uri": "https://localhost:8080/"
        },
        "outputId": "04b9b8b8-6de3-4c10-f00c-679d5343fd39"
      },
      "execution_count": null,
      "outputs": [
        {
          "output_type": "stream",
          "name": "stdout",
          "text": [
            "Help on function get_amino_acid_frequencies in module datautils:\n",
            "\n",
            "get_amino_acid_frequencies(data: pandas.core.series.Series) -> Empty DataFrame\n",
            "Columns: []\n",
            "Index: []\n",
            "    get_amino_acid_frequencies uses a counter to count recurring sequences within the data\n",
            "    Args:\n",
            "      data: pd.Series\n",
            "        - This data is the sequence data made into a pd.Series via the previous reader() function\n",
            "    Output:\n",
            "      pd.DataFrame()\n",
            "        - this dataframe contains the keys and values of the counted sequence data\n",
            "\n"
          ]
        }
      ]
    },
    {
      "cell_type": "code",
      "source": [
        " # Plot the distribution of AA frequencies\n",
        "\n",
        "f, ax = plt.subplots(figsize=(8, 5))\n",
        "amino_acid_counter = get_amino_acid_frequencies(train_data)\n",
        "\n",
        "sns.barplot(x='AA', y='Frequency', data=amino_acid_counter.sort_values(by=['Frequency'], ascending=False), ax=ax)\n",
        "plt.title(\"Distribution of AAs' frequencies in the 'train' split\")\n",
        "plt.xlabel(\"Amino acid codes\")\n",
        "plt.ylabel(\"Frequency (log scale)\")\n",
        "plt.yscale(\"log\")\n",
        "plt.show()"
      ],
      "metadata": {
        "colab": {
          "base_uri": "https://localhost:8080/",
          "height": 350
        },
        "id": "wi17Pvb-XOIK",
        "outputId": "4618e044-c01e-4a45-9f7d-e99553a9dfc5"
      },
      "execution_count": null,
      "outputs": [
        {
          "output_type": "display_data",
          "data": {
            "text/plain": [
              "<Figure size 576x360 with 1 Axes>"
            ],
            "image/png": "[encoded data removed]"
          },
          "metadata": {
            "needs_background": "light"
          }
        }
      ]
    },
    {
      "cell_type": "markdown",
      "source": [
        "As reported in the paper (and problem prompt) there are some amino acids which are very rare (X, U, B, O, Z). As such, we can push these to the $unk$ family. We could eventually remove these and push them into a One-Shot Learner.\n",
        "\n",
        "Now that we have our amino acid code frequences, we're going to build a vocabulary. If any sequence is rare, we'll excluded them and instead have them be $unk$. \n",
        "\n",
        "\n",
        "This is a good eda that shows us what feature engineering we have to do, the removal of the XUBOZ codes. With this we can move on to the model development"
      ],
      "metadata": {
        "id": "3_StMw3HYytE"
      }
    },
    {
      "cell_type": "code",
      "source": [
        ""
      ],
      "metadata": {
        "id": "_2nJ1HFx9ZWV"
      },
      "execution_count": null,
      "outputs": []
    }
  ]
}