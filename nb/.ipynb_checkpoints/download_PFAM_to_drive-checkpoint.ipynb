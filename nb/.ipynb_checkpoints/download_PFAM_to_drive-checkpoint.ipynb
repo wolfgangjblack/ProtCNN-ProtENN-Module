{
 "cells": [
  {
   "cell_type": "markdown",
   "metadata": {},
   "source": [
    "Author: Wolfgang Black <br>\n",
    "date_modified: 2022-07-24\n",
    "    \n",
    "# Notebook purpose:\n",
    "    \n",
    "This notebook is meant to be run in google colab and will utilize the kaggle API to copy the data directly from kaggle to a colab directory we specify. \n",
    "    \n",
    "The data downloaded will be the pfam amino acid sequence data with family ids. The data can be found [here](\"https://www.kaggle.com/datasets/googleai/pfam-seed-random-split\"). Instructions for how to access the kaggle API and download personal creditials can be found [here] (\"https://github.com/Kaggle/kaggle-api\") under the <b>API Creditials</b> section of the README.md"
   ]
  },
  {
   "cell_type": "code",
   "execution_count": null,
   "metadata": {
    "colab": {
     "base_uri": "https://localhost:8080/"
    },
    "id": "YIjzGCDO2F7f",
    "outputId": "97b9d3b4-d037-444c-b931-e36db8623776"
   },
   "outputs": [
    {
     "name": "stdout",
     "output_type": "stream",
     "text": [
      "Mounted at /content/drive\n"
     ]
    }
   ],
   "source": [
    "from google.colab import drive\n",
    "drive.mount('/content/drive')"
   ]
  },
  {
   "cell_type": "code",
   "execution_count": null,
   "metadata": {
    "id": "wolslYFF97s6"
   },
   "outputs": [],
   "source": [
    "import os\n",
    "import json\n",
    "import shutil"
   ]
  },
  {
   "cell_type": "markdown",
   "metadata": {
    "id": "V6vnAZQo-qX0"
   },
   "source": [
    "First, we need to download the data from Kaggle into our own drive. To do this, we've downloaded a json with our credentials allowing us to call the Kaggle API and copy the data. \n",
    "\n",
    "The next bit of code will point to the credentials and then using json read them in. I'll probably obsure it a bit, since its my PII. But once this is done, I'll have the api calls and move the data."
   ]
  },
  {
   "cell_type": "code",
   "execution_count": null,
   "metadata": {
    "id": "boOA9T_U98IT"
   },
   "outputs": [],
   "source": [
    "base_dir = './drive/MyDrive/PFAM_database/'\n",
    "credentials_dir = base_dir + 'kaggle.json'"
   ]
  },
  {
   "cell_type": "code",
   "execution_count": null,
   "metadata": {
    "id": "U6zgc7pZ-Hzi"
   },
   "outputs": [],
   "source": [
    "f = open(credentials_dir)\n",
    "data = json.load(f) #this is now a dictionary with keys: username and key\n",
    "\n",
    "#Now we set up our environment\n",
    "os.environ['KAGGLE_USERNAME'] = data['username']\n",
    "os.environ['KAGGLE_KEY'] = data['key']"
   ]
  },
  {
   "cell_type": "code",
   "execution_count": null,
   "metadata": {
    "colab": {
     "base_uri": "https://localhost:8080/"
    },
    "id": "_EXsAc4F_Mod",
    "outputId": "fca23b41-e23c-469d-84a8-04f43fbfd979"
   },
   "outputs": [
    {
     "name": "stdout",
     "output_type": "stream",
     "text": [
      "Downloading pfam-seed-random-split.zip to /content\n",
      " 99% 489M/493M [00:04<00:00, 142MB/s]\n",
      "100% 493M/493M [00:04<00:00, 108MB/s]\n"
     ]
    }
   ],
   "source": [
    "!kaggle datasets download -d googleai/pfam-seed-random-split"
   ]
  },
  {
   "cell_type": "code",
   "execution_count": null,
   "metadata": {
    "colab": {
     "base_uri": "https://localhost:8080/"
    },
    "id": "urWstKw4_RMu",
    "outputId": "72a44bf0-47f3-4501-f398-32a8ea09fac5"
   },
   "outputs": [
    {
     "data": {
      "text/plain": [
       "['kaggle.json', 'pfam-seed-random-split.zip']"
      ]
     },
     "execution_count": 20,
     "metadata": {},
     "output_type": "execute_result"
    }
   ],
   "source": [
    "##Oops, I copied it to the wrong loc... lets move it\n",
    "os.listdir('/content')\n",
    "shutil.move('/content/pfam-seed-random-split.zip', base_dir)\n",
    "os.listdir(base_dir)"
   ]
  },
  {
   "cell_type": "markdown",
   "metadata": {
    "id": "TDBDYjodApGX"
   },
   "source": [
    "Now that we have our zipped dataset, lets unzip it and save it to a new directory (data)"
   ]
  },
  {
   "cell_type": "code",
   "execution_count": null,
   "metadata": {
    "id": "1WriwzowALhR"
   },
   "outputs": [],
   "source": [
    "import zipfile\n",
    "with zipfile.ZipFile(base_dir+'pfam-seed-random-split.zip', 'r') as zip_ref:\n",
    "    zip_ref.extractall(base_dir+'/data')"
   ]
  },
  {
   "cell_type": "code",
   "execution_count": null,
   "metadata": {
    "colab": {
     "base_uri": "https://localhost:8080/"
    },
    "id": "8pFVOOl4A-WK",
    "outputId": "48432595-fe07-4e3a-d6af-75eb89041b1d"
   },
   "outputs": [
    {
     "name": "stdout",
     "output_type": "stream",
     "text": [
      "['kaggle.json', 'pfam-seed-random-split.zip', 'data']\n",
      "['dev', 'random_split', 'test', 'train']\n"
     ]
    }
   ],
   "source": [
    "print(os.listdir(base_dir))\n",
    "print(os.listdir(base_dir+'/data/random_split'))"
   ]
  },
  {
   "cell_type": "markdown",
   "metadata": {
    "id": "OgC92hm9BVSZ"
   },
   "source": [
    "## About Dataset\n",
    "### Problem description\n",
    "This directory contains data to train a model to predict the function of protein domains, based\n",
    "on the PFam dataset.\n",
    "\n",
    "Domains are functional sub-parts of proteins; much like images in ImageNet are pre segmented to\n",
    "contain exactly one object class, this data is presegmented to contain exactly and only one\n",
    "domain.\n",
    "\n",
    "The purpose of the dataset is to repose the PFam seed dataset as a multiclass classification\n",
    "machine learning task.\n",
    "\n",
    "The task is: given the amino acid sequence of the protein domain, predict which class it belongs\n",
    "to. There are about 1 million training examples, and 18,000 output classes.\n",
    "\n",
    "### Data structure\n",
    "This data is more completely described by the publication \"Can Deep Learning\n",
    "Classify the Protein Universe\", Bileschi et al.\n",
    "\n",
    "### Data split and layout\n",
    "The approach used to partition the data into training/dev/testing folds is a random split.\n",
    "\n",
    "Training data should be used to train your models.\n",
    "Dev (development) data should be used in a close validation loop (maybe\n",
    "for hyperparameter tuning or model validation).\n",
    "Test data should be reserved for much less frequent evaluations - this\n",
    "helps avoid overfitting on your test data, as it should only be used\n",
    "infrequently.\n",
    "## File content\n",
    "Each fold (train, dev, test) has a number of files in it. Each of those files\n",
    "contains csv on each line, which has the following fields:\n",
    "\n",
    "sequence: HWLQMRDSMNTYNNMVNRCFATCIRSFQEKKVNAEEMDCTKRCVTKFVGYSQRVALRFAE  <br>\n",
    "family_accession: PF02953.15 <br>\n",
    "sequence_name: C5K6N5_PERM5/28-87 <br>\n",
    "aligned_sequence: ....HWLQMRDSMNTYNNMVNRCFATCI...........RS.F....QEKKVNAEE.....MDCT....KRCVTKFVGYSQRVALRFAE  <br>\n",
    "family_id: zf-Tim10_DDP <br>\n",
    "#### Description of fields:\n",
    "\n",
    "- sequence: These are usually the input features to your model. Amino acid sequence for this domain.\n",
    "- There are 20 very common amino acids (frequency > 1,000,000), and 4 amino acids that are quite uncommon: X, U, B, O, Z.\n",
    "- family_accession: These are usually the labels for your model. Accession number in form PFxxxxx.y\n",
    "(Pfam), where xxxxx is the family accession, and y is the version number.\n",
    "Some values of y are greater than ten, and so 'y' has two digits.\n",
    "- family_id: One word name for family.\n",
    "- sequencename: Sequence name, in the form \"$uniprotaccessionid/$startindex-$end_index\".\n",
    "aligned_sequence: Contains a single sequence from the multiple sequence alignment (with the rest of the members of\n",
    "the family in seed, with gaps retained. <p>\n",
    "Generally, the family_accession field is the label, and the sequence\n",
    "(or aligned sequence) is the training feature.\n",
    "\n",
    "This sequence corresponds to a domain, not a full protein."
   ]
  }
 ],
 "metadata": {
  "colab": {
   "collapsed_sections": [],
   "name": "download_PFAM_to_drive",
   "provenance": []
  },
  "kernelspec": {
   "display_name": "Python 3 (ipykernel)",
   "language": "python",
   "name": "python3"
  },
  "language_info": {
   "codemirror_mode": {
    "name": "ipython",
    "version": 3
   },
   "file_extension": ".py",
   "mimetype": "text/x-python",
   "name": "python",
   "nbconvert_exporter": "python",
   "pygments_lexer": "ipython3",
   "version": "3.9.7"
  }
 },
 "nbformat": 4,
 "nbformat_minor": 1
}
