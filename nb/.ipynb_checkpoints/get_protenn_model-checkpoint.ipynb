{
 "cells": [
  {
   "cell_type": "markdown",
   "metadata": {},
   "source": [
    "Author: Wolfgang Black <br>\n",
    "date_modified: 2022-07-24\n",
    "    \n",
    "# Notebook purpose:\n",
    "    \n",
    "This notebook is meant to be run in google colab. It will build an ensemble ProtENN model, which contains n ProtCNN models.  This nb will load the training and dev datasets from the raw data_dir for model training and development, load in the saved models from the model_dir, and save the classification results to a results_dir.\n",
    "\n",
    "This is the debugging notebook responsible for inference.py and the inference step of main.py"
   ]
  },
  {
   "cell_type": "code",
   "execution_count": null,
   "metadata": {
    "colab": {
     "base_uri": "https://localhost:8080/"
    },
    "id": "1TAyVvfu-FaT",
    "outputId": "1e9c3798-c454-4fee-f2af-604fdddb9c22"
   },
   "outputs": [
    {
     "name": "stdout",
     "output_type": "stream",
     "text": [
      "Mounted at /content/drive/\n"
     ]
    }
   ],
   "source": [
    "import os\n",
    "from collections import Counter\n",
    "\n",
    "import pandas as pd\n",
    "import numpy as np\n",
    "\n",
    "from google.colab import drive\n",
    "drive.mount('/content/drive/')\n",
    "\n",
    "!cp './drive/MyDrive/Colab Notebooks/ProtCNN/utils/datautils.py' ./\n",
    "from datautils import *\n",
    "!cp './drive/MyDrive/Colab Notebooks/ProtCNN/utils/modelutils.py' ./\n",
    "from modelutils import *\n",
    "\n",
    "import matplotlib.pyplot as plt\n",
    "import seaborn as sns\n",
    "\n",
    "import tensorflow as tf\n"
   ]
  },
  {
   "cell_type": "code",
   "execution_count": null,
   "metadata": {
    "id": "Lm-1mdYX-OrU"
   },
   "outputs": [],
   "source": [
    "data_dir = './drive/MyDrive/PFAM_database/data/random_split/'\n",
    "model_dir = './drive/MyDrive/Colab Notebooks/ProtCNN/models/ensemble_model/'\n"
   ]
  },
  {
   "cell_type": "code",
   "execution_count": null,
   "metadata": {
    "id": "ZQjWSTci-O79"
   },
   "outputs": [],
   "source": [
    "train_data, train_targets = reader('train',data_dir)"
   ]
  },
  {
   "cell_type": "code",
   "execution_count": null,
   "metadata": {
    "colab": {
     "base_uri": "https://localhost:8080/"
    },
    "id": "RJu8tnVW-Qam",
    "outputId": "fe2ed0a3-37ad-466d-f83e-f14b5ca9a2b1"
   },
   "outputs": [
    {
     "name": "stdout",
     "output_type": "stream",
     "text": [
      "There are 17930 labels.\n"
     ]
    }
   ],
   "source": [
    "fam2label = build_labels(train_targets)"
   ]
  },
  {
   "cell_type": "code",
   "execution_count": null,
   "metadata": {
    "colab": {
     "base_uri": "https://localhost:8080/"
    },
    "id": "jBUS3O8M-XSE",
    "outputId": "0be67387-41a5-4f08-a930-a07dd2e37b67"
   },
   "outputs": [
    {
     "name": "stdout",
     "output_type": "stream",
     "text": [
      "AA dictionary formed. the length of dictionary is: 22.\n"
     ]
    }
   ],
   "source": [
    "word2id = build_vocab(train_data)\n",
    "vocab_len = len(word2id)"
   ]
  },
  {
   "cell_type": "code",
   "execution_count": null,
   "metadata": {
    "id": "jLiouRdY-Y6I"
   },
   "outputs": [],
   "source": [
    "max_len = 120"
   ]
  },
  {
   "cell_type": "code",
   "execution_count": null,
   "metadata": {
    "id": "PcAFpCGZ-ZH9"
   },
   "outputs": [],
   "source": [
    "train = SequenceData(word2id, fam2label, max_len, data_dir,\"train\")\n",
    "train_dict = train.get_data_dictionaries()\n",
    "dev = SequenceData(word2id, fam2label, max_len, data_dir,\"dev\")\n",
    "dev_dict = dev.get_data_dictionaries()"
   ]
  },
  {
   "cell_type": "code",
   "execution_count": null,
   "metadata": {
    "id": "0_0AfZY_-ahu"
   },
   "outputs": [],
   "source": [
    "num_classes = len(fam2label)"
   ]
  },
  {
   "cell_type": "code",
   "execution_count": null,
   "metadata": {
    "id": "5MD30JMn-c8p"
   },
   "outputs": [],
   "source": [
    "train_dataset = tf.data.Dataset.from_tensor_slices((train_dict['sequence'], train_dict['target'])).shuffle(True).batch(256)\n",
    "validation_dataset = tf.data.Dataset.from_tensor_slices((dev_dict['sequence'], dev_dict['target'])).shuffle(True).batch(266)\n"
   ]
  },
  {
   "cell_type": "code",
   "execution_count": null,
   "metadata": {
    "id": "w4LFjXL1BEcA"
   },
   "outputs": [],
   "source": [
    "  epochs = 5\n",
    "  num_models = 3"
   ]
  },
  {
   "cell_type": "code",
   "execution_count": null,
   "metadata": {
    "colab": {
     "base_uri": "https://localhost:8080/"
    },
    "id": "Dg-y0hCX-rmn",
    "outputId": "29ee4f1c-e0b4-4ded-e7e2-0afa8c90ba9f"
   },
   "outputs": [
    {
     "name": "stdout",
     "output_type": "stream",
     "text": [
      "Model: \"model_2\"\n",
      "__________________________________________________________________________________________________\n",
      " Layer (type)                   Output Shape         Param #     Connected to                     \n",
      "==================================================================================================\n",
      " input_3 (InputLayer)           [(None, 120, 22)]    0           []                               \n",
      "                                                                                                  \n",
      " conv1d_10 (Conv1D)             (None, 120, 128)     2944        ['input_3[0][0]']                \n",
      "                                                                                                  \n",
      " batch_normalization_8 (BatchNo  (None, 120, 128)    512         ['conv1d_10[0][0]']              \n",
      " rmalization)                                                                                     \n",
      "                                                                                                  \n",
      " activation_8 (Activation)      (None, 120, 128)     0           ['batch_normalization_8[0][0]']  \n",
      "                                                                                                  \n",
      " conv1d_11 (Conv1D)             (None, 120, 128)     16512       ['activation_8[0][0]']           \n",
      "                                                                                                  \n",
      " batch_normalization_9 (BatchNo  (None, 120, 128)    512         ['conv1d_11[0][0]']              \n",
      " rmalization)                                                                                     \n",
      "                                                                                                  \n",
      " activation_9 (Activation)      (None, 120, 128)     0           ['batch_normalization_9[0][0]']  \n",
      "                                                                                                  \n",
      " conv1d_12 (Conv1D)             (None, 120, 128)     49280       ['activation_9[0][0]']           \n",
      "                                                                                                  \n",
      " add_4 (Add)                    (None, 120, 128)     0           ['conv1d_12[0][0]',              \n",
      "                                                                  'conv1d_10[0][0]']              \n",
      "                                                                                                  \n",
      " batch_normalization_10 (BatchN  (None, 120, 128)    512         ['add_4[0][0]']                  \n",
      " ormalization)                                                                                    \n",
      "                                                                                                  \n",
      " activation_10 (Activation)     (None, 120, 128)     0           ['batch_normalization_10[0][0]'] \n",
      "                                                                                                  \n",
      " conv1d_13 (Conv1D)             (None, 120, 128)     16512       ['activation_10[0][0]']          \n",
      "                                                                                                  \n",
      " batch_normalization_11 (BatchN  (None, 120, 128)    512         ['conv1d_13[0][0]']              \n",
      " ormalization)                                                                                    \n",
      "                                                                                                  \n",
      " activation_11 (Activation)     (None, 120, 128)     0           ['batch_normalization_11[0][0]'] \n",
      "                                                                                                  \n",
      " conv1d_14 (Conv1D)             (None, 120, 128)     49280       ['activation_11[0][0]']          \n",
      "                                                                                                  \n",
      " add_5 (Add)                    (None, 120, 128)     0           ['conv1d_14[0][0]',              \n",
      "                                                                  'add_4[0][0]']                  \n",
      "                                                                                                  \n",
      " max_pooling1d_2 (MaxPooling1D)  (None, 40, 128)     0           ['add_5[0][0]']                  \n",
      "                                                                                                  \n",
      " dropout_2 (Dropout)            (None, 40, 128)      0           ['max_pooling1d_2[0][0]']        \n",
      "                                                                                                  \n",
      " flatten_2 (Flatten)            (None, 5120)         0           ['dropout_2[0][0]']              \n",
      "                                                                                                  \n",
      " dense_2 (Dense)                (None, 17930)        91819530    ['flatten_2[0][0]']              \n",
      "                                                                                                  \n",
      "==================================================================================================\n",
      "Total params: 91,956,106\n",
      "Trainable params: 91,955,082\n",
      "Non-trainable params: 1,024\n",
      "__________________________________________________________________________________________________\n",
      "Epoch 1/5\n",
      "4246/4246 [==============================] - 1717s 404ms/step - loss: 3.7797 - accuracy: 0.8339 - val_loss: 3.1793 - val_accuracy: 0.9350\n",
      "Epoch 2/5\n",
      "4246/4246 [==============================] - 1723s 406ms/step - loss: 3.4731 - accuracy: 0.8927 - val_loss: 3.2238 - val_accuracy: 0.9390\n",
      "Epoch 3/5\n",
      "4246/4246 [==============================] - 1722s 406ms/step - loss: 3.4464 - accuracy: 0.8972 - val_loss: 3.2194 - val_accuracy: 0.9410\n",
      "Epoch 4/5\n",
      "4246/4246 [==============================] - 1730s 407ms/step - loss: 3.4047 - accuracy: 0.9010 - val_loss: 3.1660 - val_accuracy: 0.9448\n",
      "Epoch 5/5\n",
      "4246/4246 [==============================] - 1728s 407ms/step - loss: 3.3735 - accuracy: 0.9031 - val_loss: 3.1580 - val_accuracy: 0.9472\n",
      "Model: \"model_3\"\n",
      "__________________________________________________________________________________________________\n",
      " Layer (type)                   Output Shape         Param #     Connected to                     \n",
      "==================================================================================================\n",
      " input_4 (InputLayer)           [(None, 120, 22)]    0           []                               \n",
      "                                                                                                  \n",
      " conv1d_15 (Conv1D)             (None, 120, 128)     2944        ['input_4[0][0]']                \n",
      "                                                                                                  \n",
      " batch_normalization_12 (BatchN  (None, 120, 128)    512         ['conv1d_15[0][0]']              \n",
      " ormalization)                                                                                    \n",
      "                                                                                                  \n",
      " activation_12 (Activation)     (None, 120, 128)     0           ['batch_normalization_12[0][0]'] \n",
      "                                                                                                  \n",
      " conv1d_16 (Conv1D)             (None, 120, 128)     16512       ['activation_12[0][0]']          \n",
      "                                                                                                  \n",
      " batch_normalization_13 (BatchN  (None, 120, 128)    512         ['conv1d_16[0][0]']              \n",
      " ormalization)                                                                                    \n",
      "                                                                                                  \n",
      " activation_13 (Activation)     (None, 120, 128)     0           ['batch_normalization_13[0][0]'] \n",
      "                                                                                                  \n",
      " conv1d_17 (Conv1D)             (None, 120, 128)     49280       ['activation_13[0][0]']          \n",
      "                                                                                                  \n",
      " add_6 (Add)                    (None, 120, 128)     0           ['conv1d_17[0][0]',              \n",
      "                                                                  'conv1d_15[0][0]']              \n",
      "                                                                                                  \n",
      " batch_normalization_14 (BatchN  (None, 120, 128)    512         ['add_6[0][0]']                  \n",
      " ormalization)                                                                                    \n",
      "                                                                                                  \n",
      " activation_14 (Activation)     (None, 120, 128)     0           ['batch_normalization_14[0][0]'] \n",
      "                                                                                                  \n",
      " conv1d_18 (Conv1D)             (None, 120, 128)     16512       ['activation_14[0][0]']          \n",
      "                                                                                                  \n",
      " batch_normalization_15 (BatchN  (None, 120, 128)    512         ['conv1d_18[0][0]']              \n",
      " ormalization)                                                                                    \n",
      "                                                                                                  \n",
      " activation_15 (Activation)     (None, 120, 128)     0           ['batch_normalization_15[0][0]'] \n",
      "                                                                                                  \n",
      " conv1d_19 (Conv1D)             (None, 120, 128)     49280       ['activation_15[0][0]']          \n",
      "                                                                                                  \n",
      " add_7 (Add)                    (None, 120, 128)     0           ['conv1d_19[0][0]',              \n",
      "                                                                  'add_6[0][0]']                  \n",
      "                                                                                                  \n",
      " max_pooling1d_3 (MaxPooling1D)  (None, 40, 128)     0           ['add_7[0][0]']                  \n",
      "                                                                                                  \n",
      " dropout_3 (Dropout)            (None, 40, 128)      0           ['max_pooling1d_3[0][0]']        \n",
      "                                                                                                  \n",
      " flatten_3 (Flatten)            (None, 5120)         0           ['dropout_3[0][0]']              \n",
      "                                                                                                  \n",
      " dense_3 (Dense)                (None, 17930)        91819530    ['flatten_3[0][0]']              \n",
      "                                                                                                  \n",
      "==================================================================================================\n",
      "Total params: 91,956,106\n",
      "Trainable params: 91,955,082\n",
      "Non-trainable params: 1,024\n",
      "__________________________________________________________________________________________________\n",
      "Epoch 1/5\n",
      "4246/4246 [==============================] - 1675s 394ms/step - loss: 3.7732 - accuracy: 0.8342 - val_loss: 3.1881 - val_accuracy: 0.9359\n",
      "Epoch 2/5\n",
      "4246/4246 [==============================] - 1676s 395ms/step - loss: 3.4717 - accuracy: 0.8929 - val_loss: 3.2170 - val_accuracy: 0.9397\n",
      "Epoch 3/5\n",
      "4246/4246 [==============================] - 1682s 396ms/step - loss: 3.4415 - accuracy: 0.8974 - val_loss: 3.1867 - val_accuracy: 0.9438\n",
      "Epoch 4/5\n",
      "4246/4246 [==============================] - 1688s 398ms/step - loss: 3.4021 - accuracy: 0.9005 - val_loss: 3.1699 - val_accuracy: 0.9451\n",
      "Epoch 5/5\n",
      "4246/4246 [==============================] - 1684s 397ms/step - loss: 3.3745 - accuracy: 0.9028 - val_loss: 3.1378 - val_accuracy: 0.9474\n",
      "Model: \"model_4\"\n",
      "__________________________________________________________________________________________________\n",
      " Layer (type)                   Output Shape         Param #     Connected to                     \n",
      "==================================================================================================\n",
      " input_5 (InputLayer)           [(None, 120, 22)]    0           []                               \n",
      "                                                                                                  \n",
      " conv1d_20 (Conv1D)             (None, 120, 128)     2944        ['input_5[0][0]']                \n",
      "                                                                                                  \n",
      " batch_normalization_16 (BatchN  (None, 120, 128)    512         ['conv1d_20[0][0]']              \n",
      " ormalization)                                                                                    \n",
      "                                                                                                  \n",
      " activation_16 (Activation)     (None, 120, 128)     0           ['batch_normalization_16[0][0]'] \n",
      "                                                                                                  \n",
      " conv1d_21 (Conv1D)             (None, 120, 128)     16512       ['activation_16[0][0]']          \n",
      "                                                                                                  \n",
      " batch_normalization_17 (BatchN  (None, 120, 128)    512         ['conv1d_21[0][0]']              \n",
      " ormalization)                                                                                    \n",
      "                                                                                                  \n",
      " activation_17 (Activation)     (None, 120, 128)     0           ['batch_normalization_17[0][0]'] \n",
      "                                                                                                  \n",
      " conv1d_22 (Conv1D)             (None, 120, 128)     49280       ['activation_17[0][0]']          \n",
      "                                                                                                  \n",
      " add_8 (Add)                    (None, 120, 128)     0           ['conv1d_22[0][0]',              \n",
      "                                                                  'conv1d_20[0][0]']              \n",
      "                                                                                                  \n",
      " batch_normalization_18 (BatchN  (None, 120, 128)    512         ['add_8[0][0]']                  \n",
      " ormalization)                                                                                    \n",
      "                                                                                                  \n",
      " activation_18 (Activation)     (None, 120, 128)     0           ['batch_normalization_18[0][0]'] \n",
      "                                                                                                  \n",
      " conv1d_23 (Conv1D)             (None, 120, 128)     16512       ['activation_18[0][0]']          \n",
      "                                                                                                  \n",
      " batch_normalization_19 (BatchN  (None, 120, 128)    512         ['conv1d_23[0][0]']              \n",
      " ormalization)                                                                                    \n",
      "                                                                                                  \n",
      " activation_19 (Activation)     (None, 120, 128)     0           ['batch_normalization_19[0][0]'] \n",
      "                                                                                                  \n",
      " conv1d_24 (Conv1D)             (None, 120, 128)     49280       ['activation_19[0][0]']          \n",
      "                                                                                                  \n",
      " add_9 (Add)                    (None, 120, 128)     0           ['conv1d_24[0][0]',              \n",
      "                                                                  'add_8[0][0]']                  \n",
      "                                                                                                  \n",
      " max_pooling1d_4 (MaxPooling1D)  (None, 40, 128)     0           ['add_9[0][0]']                  \n",
      "                                                                                                  \n",
      " dropout_4 (Dropout)            (None, 40, 128)      0           ['max_pooling1d_4[0][0]']        \n",
      "                                                                                                  \n",
      " flatten_4 (Flatten)            (None, 5120)         0           ['dropout_4[0][0]']              \n",
      "                                                                                                  \n",
      " dense_4 (Dense)                (None, 17930)        91819530    ['flatten_4[0][0]']              \n",
      "                                                                                                  \n",
      "==================================================================================================\n",
      "Total params: 91,956,106\n",
      "Trainable params: 91,955,082\n",
      "Non-trainable params: 1,024\n",
      "__________________________________________________________________________________________________\n",
      "Epoch 1/5\n",
      "4246/4246 [==============================] - 1664s 391ms/step - loss: 3.7832 - accuracy: 0.8332 - val_loss: 3.2004 - val_accuracy: 0.9348\n",
      "Epoch 2/5\n",
      "4246/4246 [==============================] - 1661s 391ms/step - loss: 3.4785 - accuracy: 0.8924 - val_loss: 3.2445 - val_accuracy: 0.9368\n",
      "Epoch 3/5\n",
      "4246/4246 [==============================] - 1660s 391ms/step - loss: 3.4420 - accuracy: 0.8973 - val_loss: 3.1941 - val_accuracy: 0.9415\n",
      "Epoch 4/5\n",
      "4246/4246 [==============================] - 1667s 393ms/step - loss: 3.3924 - accuracy: 0.9007 - val_loss: 3.1567 - val_accuracy: 0.9454\n",
      "Epoch 5/5\n",
      "4246/4246 [==============================] - 1660s 391ms/step - loss: 3.3616 - accuracy: 0.9028 - val_loss: 3.1261 - val_accuracy: 0.9468\n"
     ]
    }
   ],
   "source": [
    "for i in range(num_models):\n",
    "  model = get_protCNN_model( max_len, 22, num_classes)\n",
    "  model.compile(optimizer='adam', loss='sparse_categorical_crossentropy', metrics=['accuracy'])\n",
    "  model.summary()\n",
    "\n",
    "\n",
    "  history = model.fit(train_dataset,\n",
    "                    epochs = epochs, batch_size = 256,\n",
    "                    validation_data = validation_dataset)\n",
    "  \n",
    "  model.save(model_dir+'ProtENN_model_'+str(i)+'_two_resblock_5_epoch_model.h5')"
   ]
  },
  {
   "cell_type": "code",
   "execution_count": null,
   "metadata": {
    "colab": {
     "base_uri": "https://localhost:8080/"
    },
    "id": "H_hbvAOS-r5K",
    "outputId": "c53d6071-35a2-4d47-93f4-ebaf4af17144"
   },
   "outputs": [
    {
     "name": "stdout",
     "output_type": "stream",
     "text": [
      "model has finished training and is saved\n"
     ]
    }
   ],
   "source": [
    "print('model has finished training and is saved')"
   ]
  },
  {
   "cell_type": "code",
   "execution_count": null,
   "metadata": {
    "id": "WXkHTBBw-u5j"
   },
   "outputs": [],
   "source": []
  },
  {
   "cell_type": "code",
   "execution_count": null,
   "metadata": {
    "id": "ftDuVH-OBux4"
   },
   "outputs": [],
   "source": []
  }
 ],
 "metadata": {
  "accelerator": "TPU",
  "colab": {
   "collapsed_sections": [],
   "machine_shape": "hm",
   "name": "get_protenn_model",
   "provenance": []
  },
  "gpuClass": "standard",
  "kernelspec": {
   "display_name": "Python 3 (ipykernel)",
   "language": "python",
   "name": "python3"
  },
  "language_info": {
   "codemirror_mode": {
    "name": "ipython",
    "version": 3
   },
   "file_extension": ".py",
   "mimetype": "text/x-python",
   "name": "python",
   "nbconvert_exporter": "python",
   "pygments_lexer": "ipython3",
   "version": "3.9.7"
  }
 },
 "nbformat": 4,
 "nbformat_minor": 1
}
