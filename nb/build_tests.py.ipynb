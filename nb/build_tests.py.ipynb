{
 "cells": [
  {
   "cell_type": "code",
   "execution_count": 82,
   "id": "dc024e65",
   "metadata": {},
   "outputs": [],
   "source": [
    "import os\n",
    "import pytest\n",
    "from collections import Counter\n",
    "import random #remove\n"
   ]
  },
  {
   "cell_type": "code",
   "execution_count": 69,
   "id": "6902a898",
   "metadata": {},
   "outputs": [],
   "source": [
    "def verify_labels_in_encoded_values(y: list, fam2labels:dict):\n",
    "    \"\"\"This test verifies there are no extraneous values in the labels that do not exist in the label encoder\"\"\"\n",
    "    try:\n",
    "        assert set(list(Counter(y).keys())).issubset(list(fam2labels.values()))\n",
    "        print('verify_labels_in_encoded_values PASSED')\n",
    "    except:\n",
    "        print('verify_labels_in_encoded_values FAILED - there are labels in y that dne in the encoder')"
   ]
  },
  {
   "cell_type": "code",
   "execution_count": 74,
   "id": "53fcd046",
   "metadata": {},
   "outputs": [],
   "source": [
    "def verify_unique_labels(y_train: list, fam2labels: dict):\n",
    "    \"\"\"This verifies that the training data doesn't have more unique values than exists in the label encoder\"\"\"\n",
    "    counter_object = Counter(y_train)\n",
    "    keys = counter_object.keys()\n",
    "    assert len(fam2labels) == len(keys), 'failed, the number unique labels in training is different from the expected number'"
   ]
  },
  {
   "cell_type": "code",
   "execution_count": 72,
   "id": "0a08878d",
   "metadata": {},
   "outputs": [],
   "source": [
    "a = [1, 1, 2, 3]\n",
    "a1 = [1, 1, 2, 3, 4]\n",
    "a2 = [1, 1, 2, 3, 5]\n",
    "b_dict = {'a':1, 'b':2, 'c':3, 'd':5}"
   ]
  },
  {
   "cell_type": "code",
   "execution_count": 73,
   "id": "45b8b236",
   "metadata": {},
   "outputs": [
    {
     "name": "stdout",
     "output_type": "stream",
     "text": [
      "verify_labels_in_encoded_values PASSED\n",
      "verify_labels_in_encoded_values FAILED - there are labels in y that dne in the encoder\n",
      "verify_labels_in_encoded_values PASSED\n"
     ]
    }
   ],
   "source": [
    "verify_labels_in_encoded_values(a, b_dict)\n",
    "verify_labels_in_encoded_values(a1, b_dict)\n",
    "verify_labels_in_encoded_values(a2, b_dict)"
   ]
  },
  {
   "cell_type": "markdown",
   "id": "6ab82bdb",
   "metadata": {},
   "source": [
    "Do config test and other test on cloud"
   ]
  },
  {
   "cell_type": "code",
   "execution_count": null,
   "id": "6b940fdb",
   "metadata": {},
   "outputs": [],
   "source": []
  },
  {
   "cell_type": "code",
   "execution_count": null,
   "id": "4c02d6df",
   "metadata": {},
   "outputs": [],
   "source": []
  },
  {
   "cell_type": "code",
   "execution_count": null,
   "id": "845ae594",
   "metadata": {},
   "outputs": [],
   "source": []
  },
  {
   "cell_type": "code",
   "execution_count": null,
   "id": "defd262e",
   "metadata": {},
   "outputs": [],
   "source": []
  },
  {
   "cell_type": "code",
   "execution_count": 70,
   "id": "0009a575",
   "metadata": {},
   "outputs": [],
   "source": [
    "def verify_feature_shapes(x: dict, max_len,word2id):\n",
    "    \"\"\"This test verifies that the feature sets are the expected size\"\"\"\n",
    "    assert x['sequence'].shape == \n",
    "    "
   ]
  }
 ],
 "metadata": {
  "kernelspec": {
   "display_name": "Python 3 (ipykernel)",
   "language": "python",
   "name": "python3"
  },
  "language_info": {
   "codemirror_mode": {
    "name": "ipython",
    "version": 3
   },
   "file_extension": ".py",
   "mimetype": "text/x-python",
   "name": "python",
   "nbconvert_exporter": "python",
   "pygments_lexer": "ipython3",
   "version": "3.9.7"
  }
 },
 "nbformat": 4,
 "nbformat_minor": 5
}
