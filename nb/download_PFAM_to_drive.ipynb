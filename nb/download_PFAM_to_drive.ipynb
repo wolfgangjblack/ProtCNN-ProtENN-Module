{
  "nbformat": 4,
  "nbformat_minor": 0,
  "metadata": {
    "colab": {
      "name": "download_PFAM_to_drive",
      "provenance": [],
      "collapsed_sections": []
    },
    "kernelspec": {
      "name": "python3",
      "display_name": "Python 3"
    },
    "language_info": {
      "name": "python"
    }
  },
  "cells": [
    {
      "cell_type": "code",
      "execution_count": null,
      "metadata": {
        "colab": {
          "base_uri": "https://localhost:8080/"
        },
        "id": "YIjzGCDO2F7f",
        "outputId": "97b9d3b4-d037-444c-b931-e36db8623776"
      },
      "outputs": [
        {
          "output_type": "stream",
          "name": "stdout",
          "text": [
            "Mounted at /content/drive\n"
          ]
        }
      ],
      "source": [
        "from google.colab import drive\n",
        "drive.mount('/content/drive')"
      ]
    },
    {
      "cell_type": "code",
      "source": [
        "import os\n",
        "import json\n",
        "import shutil"
      ],
      "metadata": {
        "id": "wolslYFF97s6"
      },
      "execution_count": null,
      "outputs": []
    },
    {
      "cell_type": "markdown",
      "source": [
        "First, we need to download the data from Kaggle into our own drive. To do this, we've downloaded a json with our credentials allowing us to call the Kaggle API and copy the data. \n",
        "\n",
        "The next bit of code will point to the credentials and then using json read them in. I'll probably obsure it a bit, since its my PII. But once this is done, I'll have the api calls and move the data."
      ],
      "metadata": {
        "id": "V6vnAZQo-qX0"
      }
    },
    {
      "cell_type": "code",
      "source": [
        "base_dir = './drive/MyDrive/PFAM_database/'\n",
        "credentials_dir = base_dir + 'kaggle.json'"
      ],
      "metadata": {
        "id": "boOA9T_U98IT"
      },
      "execution_count": null,
      "outputs": []
    },
    {
      "cell_type": "code",
      "source": [
        "f = open(credentials_dir)\n",
        "data = json.load(f) #this is now a dictionary with keys: username and key, which are pii for me to be able to access kaggle api\n",
        "\n",
        "#Now we set up our environment\n",
        "os.environ['KAGGLE_USERNAME'] = data['username']\n",
        "os.environ['KAGGLE_KEY'] = data['key']"
      ],
      "metadata": {
        "id": "U6zgc7pZ-Hzi"
      },
      "execution_count": null,
      "outputs": []
    },
    {
      "cell_type": "code",
      "source": [
        "!kaggle datasets download -d googleai/pfam-seed-random-split"
      ],
      "metadata": {
        "colab": {
          "base_uri": "https://localhost:8080/"
        },
        "id": "_EXsAc4F_Mod",
        "outputId": "fca23b41-e23c-469d-84a8-04f43fbfd979"
      },
      "execution_count": null,
      "outputs": [
        {
          "output_type": "stream",
          "name": "stdout",
          "text": [
            "Downloading pfam-seed-random-split.zip to /content\n",
            " 99% 489M/493M [00:04<00:00, 142MB/s]\n",
            "100% 493M/493M [00:04<00:00, 108MB/s]\n"
          ]
        }
      ]
    },
    {
      "cell_type": "code",
      "source": [
        "##Oops, I copied it to the wrong loc... lets move it\n",
        "os.listdir('/content')\n",
        "shutil.move('/content/pfam-seed-random-split.zip', base_dir)\n",
        "os.listdir(base_dir)"
      ],
      "metadata": {
        "colab": {
          "base_uri": "https://localhost:8080/"
        },
        "id": "urWstKw4_RMu",
        "outputId": "72a44bf0-47f3-4501-f398-32a8ea09fac5"
      },
      "execution_count": null,
      "outputs": [
        {
          "output_type": "execute_result",
          "data": {
            "text/plain": [
              "['kaggle.json', 'pfam-seed-random-split.zip']"
            ]
          },
          "metadata": {},
          "execution_count": 20
        }
      ]
    },
    {
      "cell_type": "markdown",
      "source": [
        "Now that we have our zipped dataset, lets unzip it and save it to a new directory (data)"
      ],
      "metadata": {
        "id": "TDBDYjodApGX"
      }
    },
    {
      "cell_type": "code",
      "source": [
        "import zipfile\n",
        "with zipfile.ZipFile(base_dir+'pfam-seed-random-split.zip', 'r') as zip_ref:\n",
        "    zip_ref.extractall(base_dir+'/data')"
      ],
      "metadata": {
        "id": "1WriwzowALhR"
      },
      "execution_count": null,
      "outputs": []
    },
    {
      "cell_type": "code",
      "source": [
        "print(os.listdir(base_dir))\n",
        "print(os.listdir(base_dir+'/data/random_split'))"
      ],
      "metadata": {
        "colab": {
          "base_uri": "https://localhost:8080/"
        },
        "id": "8pFVOOl4A-WK",
        "outputId": "48432595-fe07-4e3a-d6af-75eb89041b1d"
      },
      "execution_count": null,
      "outputs": [
        {
          "output_type": "stream",
          "name": "stdout",
          "text": [
            "['kaggle.json', 'pfam-seed-random-split.zip', 'data']\n",
            "['dev', 'random_split', 'test', 'train']\n"
          ]
        }
      ]
    },
    {
      "cell_type": "markdown",
      "source": [
        "## About Dataset\n",
        "### Problem description\n",
        "This directory contains data to train a model to predict the function of protein domains, based\n",
        "on the PFam dataset.\n",
        "\n",
        "Domains are functional sub-parts of proteins; much like images in ImageNet are pre segmented to\n",
        "contain exactly one object class, this data is presegmented to contain exactly and only one\n",
        "domain.\n",
        "\n",
        "The purpose of the dataset is to repose the PFam seed dataset as a multiclass classification\n",
        "machine learning task.\n",
        "\n",
        "The task is: given the amino acid sequence of the protein domain, predict which class it belongs\n",
        "to. There are about 1 million training examples, and 18,000 output classes.\n",
        "\n",
        "### Data structure\n",
        "This data is more completely described by the publication \"Can Deep Learning\n",
        "Classify the Protein Universe\", Bileschi et al.\n",
        "\n",
        "### Data split and layout\n",
        "The approach used to partition the data into training/dev/testing folds is a random split.\n",
        "\n",
        "Training data should be used to train your models.\n",
        "Dev (development) data should be used in a close validation loop (maybe\n",
        "for hyperparameter tuning or model validation).\n",
        "Test data should be reserved for much less frequent evaluations - this\n",
        "helps avoid overfitting on your test data, as it should only be used\n",
        "infrequently.\n",
        "## File content\n",
        "Each fold (train, dev, test) has a number of files in it. Each of those files\n",
        "contains csv on each line, which has the following fields:\n",
        "\n",
        "sequence: HWLQMRDSMNTYNNMVNRCFATCIRSFQEKKVNAEEMDCTKRCVTKFVGYSQRVALRFAE  <br>\n",
        "family_accession: PF02953.15 <br>\n",
        "sequence_name: C5K6N5_PERM5/28-87 <br>\n",
        "aligned_sequence: ....HWLQMRDSMNTYNNMVNRCFATCI...........RS.F....QEKKVNAEE.....MDCT....KRCVTKFVGYSQRVALRFAE  <br>\n",
        "family_id: zf-Tim10_DDP <br>\n",
        "#### Description of fields:\n",
        "\n",
        "- sequence: These are usually the input features to your model. Amino acid sequence for this domain.\n",
        "- There are 20 very common amino acids (frequency > 1,000,000), and 4 amino acids that are quite uncommon: X, U, B, O, Z.\n",
        "- family_accession: These are usually the labels for your model. Accession number in form PFxxxxx.y\n",
        "(Pfam), where xxxxx is the family accession, and y is the version number.\n",
        "Some values of y are greater than ten, and so 'y' has two digits.\n",
        "- family_id: One word name for family.\n",
        "- sequencename: Sequence name, in the form \"$uniprotaccessionid/$startindex-$end_index\".\n",
        "aligned_sequence: Contains a single sequence from the multiple sequence alignment (with the rest of the members of\n",
        "the family in seed, with gaps retained. <p>\n",
        "Generally, the family_accession field is the label, and the sequence\n",
        "(or aligned sequence) is the training feature.\n",
        "\n",
        "This sequence corresponds to a domain, not a full protein."
      ],
      "metadata": {
        "id": "OgC92hm9BVSZ"
      }
    },
    {
      "cell_type": "markdown",
      "source": [
        ""
      ],
      "metadata": {
        "id": "EAkzriLeBVOp"
      }
    },
    {
      "cell_type": "code",
      "source": [
        ""
      ],
      "metadata": {
        "id": "oaWYNo9gBGg6"
      },
      "execution_count": null,
      "outputs": []
    }
  ]
}